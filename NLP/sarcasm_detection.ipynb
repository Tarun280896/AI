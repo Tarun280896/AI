{
  "nbformat": 4,
  "nbformat_minor": 0,
  "metadata": {
    "colab": {
      "name": "sarcasm_detection.ipynb",
      "provenance": [],
      "authorship_tag": "ABX9TyP4li1uhofCqbogmRnxvcaM",
      "include_colab_link": true
    },
    "kernelspec": {
      "name": "python3",
      "display_name": "Python 3"
    },
    "language_info": {
      "name": "python"
    },
    "accelerator": "GPU"
  },
  "cells": [
    {
      "cell_type": "markdown",
      "metadata": {
        "id": "view-in-github",
        "colab_type": "text"
      },
      "source": [
        "<a href=\"https://colab.research.google.com/github/Tarun280896/DeepLearning/blob/master/NLP/sarcasm_detection.ipynb\" target=\"_parent\"><img src=\"https://colab.research.google.com/assets/colab-badge.svg\" alt=\"Open In Colab\"/></a>"
      ]
    },
    {
      "cell_type": "code",
      "metadata": {
        "id": "w4LCrc5UuHUm",
        "colab": {
          "base_uri": "https://localhost:8080/"
        },
        "outputId": "23375684-6154-42f8-bb57-f2d698ec3df0"
      },
      "source": [
        "!wget --no-check-certificate \\\n",
        "    https://storage.googleapis.com/laurencemoroney-blog.appspot.com/sarcasm.json \\\n",
        "    -O /tmp/sarcasm.json\n"
      ],
      "execution_count": 1,
      "outputs": [
        {
          "output_type": "stream",
          "text": [
            "--2021-05-21 11:58:08--  https://storage.googleapis.com/laurencemoroney-blog.appspot.com/sarcasm.json\n",
            "Resolving storage.googleapis.com (storage.googleapis.com)... 173.194.79.128, 108.177.119.128, 108.177.126.128, ...\n",
            "Connecting to storage.googleapis.com (storage.googleapis.com)|173.194.79.128|:443... connected.\n",
            "HTTP request sent, awaiting response... 200 OK\n",
            "Length: 5643545 (5.4M) [application/json]\n",
            "Saving to: ‘/tmp/sarcasm.json’\n",
            "\n",
            "\r/tmp/sarcasm.json     0%[                    ]       0  --.-KB/s               \r/tmp/sarcasm.json   100%[===================>]   5.38M  --.-KB/s    in 0.05s   \n",
            "\n",
            "2021-05-21 11:58:08 (107 MB/s) - ‘/tmp/sarcasm.json’ saved [5643545/5643545]\n",
            "\n"
          ],
          "name": "stdout"
        }
      ]
    },
    {
      "cell_type": "code",
      "metadata": {
        "id": "_bpMHpUVyg6G"
      },
      "source": [
        "import json\n",
        "import tensorflow as tf\n",
        "\n",
        "from tensorflow.keras.preprocessing.text import Tokenizer\n",
        "from tensorflow.keras.preprocessing.sequence import pad_sequences"
      ],
      "execution_count": 2,
      "outputs": []
    },
    {
      "cell_type": "code",
      "metadata": {
        "id": "ERko9Glwysll"
      },
      "source": [
        "vocab_size = 10000\n",
        "embedding_dim = 16\n",
        "max_length = 100\n",
        "trunc_type='post'\n",
        "padding_type='post'\n",
        "oov_tok = \"<OOV>\"\n",
        "training_size = 20000\n"
      ],
      "execution_count": 3,
      "outputs": []
    },
    {
      "cell_type": "code",
      "metadata": {
        "id": "RLDVR7EczxOZ"
      },
      "source": [
        "with open(\"/tmp/sarcasm.json\", 'r') as f:\n",
        "    datastore = json.load(f)\n",
        "\n",
        "sentences = []\n",
        "labels = []\n",
        "\n",
        "for item in datastore:\n",
        "    sentences.append(item['headline'])\n",
        "    labels.append(item['is_sarcastic'])"
      ],
      "execution_count": 5,
      "outputs": []
    },
    {
      "cell_type": "code",
      "metadata": {
        "id": "ggQk6uH0zzNy"
      },
      "source": [
        "training_sentences = sentences[0:training_size]\n",
        "testing_sentences = sentences[training_size:]\n",
        "training_labels = labels[0:training_size]\n",
        "testing_labels = labels[training_size:]"
      ],
      "execution_count": 6,
      "outputs": []
    },
    {
      "cell_type": "code",
      "metadata": {
        "id": "ZvZc1ZQyz3zT"
      },
      "source": [
        "tokenizer = Tokenizer(num_words=vocab_size, oov_token=oov_tok)\n",
        "tokenizer.fit_on_texts(training_sentences)\n",
        "\n",
        "word_index = tokenizer.word_index\n",
        "\n",
        "training_sequences = tokenizer.texts_to_sequences(training_sentences)\n",
        "training_padded = pad_sequences(training_sequences, maxlen=max_length, padding=padding_type, truncating=trunc_type)\n",
        "\n",
        "testing_sequences = tokenizer.texts_to_sequences(testing_sentences)\n",
        "testing_padded = pad_sequences(testing_sequences, maxlen=max_length, padding=padding_type, truncating=trunc_type)"
      ],
      "execution_count": 7,
      "outputs": []
    },
    {
      "cell_type": "code",
      "metadata": {
        "id": "B3nLuS_M2Hpu"
      },
      "source": [
        "\n",
        "class myCallback(tf.keras.callbacks.Callback):\n",
        "  def on_epoch_end(self,epoch,logs={}):\n",
        "    if logs.get('accuracy')>0.99:\n",
        "      print('\\nAchieved 99% accuracy so training cancelled')\n",
        "      self.model.stop_training = True"
      ],
      "execution_count": 17,
      "outputs": []
    },
    {
      "cell_type": "code",
      "metadata": {
        "id": "mLDhktLez-tC"
      },
      "source": [
        "# Need this block to get it to work with TensorFlow 2.x\n",
        "import numpy as np\n",
        "training_padded = np.array(training_padded)\n",
        "training_labels = np.array(training_labels)\n",
        "testing_padded = np.array(testing_padded)\n",
        "testing_labels = np.array(testing_labels)"
      ],
      "execution_count": 8,
      "outputs": []
    },
    {
      "cell_type": "code",
      "metadata": {
        "colab": {
          "base_uri": "https://localhost:8080/"
        },
        "id": "UBqz-in40BPc",
        "outputId": "469cf075-0492-4442-e5ac-8a0750844d07"
      },
      "source": [
        "model = tf.keras.Sequential([\n",
        "    tf.keras.layers.Embedding(vocab_size, embedding_dim, input_length=max_length),\n",
        "    tf.keras.layers.GlobalAveragePooling1D(),\n",
        "    tf.keras.layers.Dense(24, activation='relu'),\n",
        "    tf.keras.layers.Dense(1, activation='sigmoid')\n",
        "])\n",
        "model.compile(loss='binary_crossentropy',optimizer='adam',metrics=['accuracy'])\n",
        "model.summary()\n"
      ],
      "execution_count": 10,
      "outputs": [
        {
          "output_type": "stream",
          "text": [
            "Model: \"sequential_1\"\n",
            "_________________________________________________________________\n",
            "Layer (type)                 Output Shape              Param #   \n",
            "=================================================================\n",
            "embedding_1 (Embedding)      (None, 100, 16)           160000    \n",
            "_________________________________________________________________\n",
            "global_average_pooling1d_1 ( (None, 16)                0         \n",
            "_________________________________________________________________\n",
            "dense_2 (Dense)              (None, 24)                408       \n",
            "_________________________________________________________________\n",
            "dense_3 (Dense)              (None, 1)                 25        \n",
            "=================================================================\n",
            "Total params: 160,433\n",
            "Trainable params: 160,433\n",
            "Non-trainable params: 0\n",
            "_________________________________________________________________\n"
          ],
          "name": "stdout"
        }
      ]
    },
    {
      "cell_type": "code",
      "metadata": {
        "colab": {
          "base_uri": "https://localhost:8080/"
        },
        "id": "7Ivx3PfM0DV0",
        "outputId": "9cdd3cba-8ed2-4d80-c114-ae9748dc6b02"
      },
      "source": [
        "num_epochs = 30\n",
        "history = model.fit(training_padded, training_labels, epochs=num_epochs, validation_data=(testing_padded, testing_labels), verbose=2)"
      ],
      "execution_count": 11,
      "outputs": [
        {
          "output_type": "stream",
          "text": [
            "Epoch 1/30\n",
            "625/625 - 3s - loss: 0.6673 - accuracy: 0.5853 - val_loss: 0.5937 - val_accuracy: 0.6941\n",
            "Epoch 2/30\n",
            "625/625 - 2s - loss: 0.4422 - accuracy: 0.8242 - val_loss: 0.3894 - val_accuracy: 0.8377\n",
            "Epoch 3/30\n",
            "625/625 - 2s - loss: 0.3164 - accuracy: 0.8745 - val_loss: 0.3535 - val_accuracy: 0.8526\n",
            "Epoch 4/30\n",
            "625/625 - 2s - loss: 0.2645 - accuracy: 0.8963 - val_loss: 0.3434 - val_accuracy: 0.8566\n",
            "Epoch 5/30\n",
            "625/625 - 2s - loss: 0.2293 - accuracy: 0.9120 - val_loss: 0.3499 - val_accuracy: 0.8486\n",
            "Epoch 6/30\n",
            "625/625 - 2s - loss: 0.2013 - accuracy: 0.9237 - val_loss: 0.3474 - val_accuracy: 0.8538\n",
            "Epoch 7/30\n",
            "625/625 - 2s - loss: 0.1798 - accuracy: 0.9318 - val_loss: 0.3569 - val_accuracy: 0.8536\n",
            "Epoch 8/30\n",
            "625/625 - 2s - loss: 0.1607 - accuracy: 0.9413 - val_loss: 0.3730 - val_accuracy: 0.8515\n",
            "Epoch 9/30\n",
            "625/625 - 2s - loss: 0.1463 - accuracy: 0.9461 - val_loss: 0.3838 - val_accuracy: 0.8538\n",
            "Epoch 10/30\n",
            "625/625 - 2s - loss: 0.1316 - accuracy: 0.9549 - val_loss: 0.4035 - val_accuracy: 0.8511\n",
            "Epoch 11/30\n",
            "625/625 - 2s - loss: 0.1216 - accuracy: 0.9584 - val_loss: 0.4210 - val_accuracy: 0.8495\n",
            "Epoch 12/30\n",
            "625/625 - 2s - loss: 0.1096 - accuracy: 0.9626 - val_loss: 0.4418 - val_accuracy: 0.8477\n",
            "Epoch 13/30\n",
            "625/625 - 2s - loss: 0.1031 - accuracy: 0.9640 - val_loss: 0.4748 - val_accuracy: 0.8396\n",
            "Epoch 14/30\n",
            "625/625 - 2s - loss: 0.0926 - accuracy: 0.9688 - val_loss: 0.4888 - val_accuracy: 0.8436\n",
            "Epoch 15/30\n",
            "625/625 - 2s - loss: 0.0853 - accuracy: 0.9721 - val_loss: 0.5296 - val_accuracy: 0.8368\n",
            "Epoch 16/30\n",
            "625/625 - 2s - loss: 0.0790 - accuracy: 0.9740 - val_loss: 0.5437 - val_accuracy: 0.8360\n",
            "Epoch 17/30\n",
            "625/625 - 2s - loss: 0.0734 - accuracy: 0.9767 - val_loss: 0.5678 - val_accuracy: 0.8357\n",
            "Epoch 18/30\n",
            "625/625 - 2s - loss: 0.0685 - accuracy: 0.9778 - val_loss: 0.6634 - val_accuracy: 0.8225\n",
            "Epoch 19/30\n",
            "625/625 - 2s - loss: 0.0616 - accuracy: 0.9804 - val_loss: 0.6377 - val_accuracy: 0.8281\n",
            "Epoch 20/30\n",
            "625/625 - 2s - loss: 0.0582 - accuracy: 0.9818 - val_loss: 0.6551 - val_accuracy: 0.8304\n",
            "Epoch 21/30\n",
            "625/625 - 2s - loss: 0.0542 - accuracy: 0.9818 - val_loss: 0.6854 - val_accuracy: 0.8283\n",
            "Epoch 22/30\n",
            "625/625 - 2s - loss: 0.0502 - accuracy: 0.9844 - val_loss: 0.7344 - val_accuracy: 0.8216\n",
            "Epoch 23/30\n",
            "625/625 - 2s - loss: 0.0467 - accuracy: 0.9861 - val_loss: 0.7527 - val_accuracy: 0.8262\n",
            "Epoch 24/30\n",
            "625/625 - 2s - loss: 0.0417 - accuracy: 0.9884 - val_loss: 0.8264 - val_accuracy: 0.8193\n",
            "Epoch 25/30\n",
            "625/625 - 2s - loss: 0.0393 - accuracy: 0.9879 - val_loss: 0.8163 - val_accuracy: 0.8234\n",
            "Epoch 26/30\n",
            "625/625 - 2s - loss: 0.0362 - accuracy: 0.9897 - val_loss: 0.8578 - val_accuracy: 0.8199\n",
            "Epoch 27/30\n",
            "625/625 - 2s - loss: 0.0329 - accuracy: 0.9909 - val_loss: 0.8930 - val_accuracy: 0.8179\n",
            "Epoch 28/30\n",
            "625/625 - 2s - loss: 0.0321 - accuracy: 0.9910 - val_loss: 0.9224 - val_accuracy: 0.8168\n",
            "Epoch 29/30\n",
            "625/625 - 2s - loss: 0.0280 - accuracy: 0.9921 - val_loss: 0.9540 - val_accuracy: 0.8173\n",
            "Epoch 30/30\n",
            "625/625 - 2s - loss: 0.0272 - accuracy: 0.9922 - val_loss: 0.9888 - val_accuracy: 0.8171\n"
          ],
          "name": "stdout"
        }
      ]
    },
    {
      "cell_type": "code",
      "metadata": {
        "colab": {
          "base_uri": "https://localhost:8080/",
          "height": 541
        },
        "id": "cKEtMiPg0HfT",
        "outputId": "ccb5ecc1-f960-407f-c957-239916e19dfd"
      },
      "source": [
        "import matplotlib.pyplot as plt\n",
        "\n",
        "\n",
        "def plot_graphs(history, string):\n",
        "  plt.plot(history.history[string])\n",
        "  plt.plot(history.history['val_'+string])\n",
        "  plt.xlabel(\"Epochs\")\n",
        "  plt.ylabel(string)\n",
        "  plt.legend([string, 'val_'+string])\n",
        "  plt.show()\n",
        "  \n",
        "plot_graphs(history, \"accuracy\")\n",
        "plot_graphs(history, \"loss\")"
      ],
      "execution_count": 12,
      "outputs": [
        {
          "output_type": "display_data",
          "data": {
            "image/png": "[encoded data removed]",
            "text/plain": [
              "<Figure size 432x288 with 1 Axes>"
            ]
          },
          "metadata": {
            "tags": [],
            "needs_background": "light"
          }
        },
        {
          "output_type": "display_data",
          "data": {
            "image/png": "[encoded data removed]",
            "text/plain": [
              "<Figure size 432x288 with 1 Axes>"
            ]
          },
          "metadata": {
            "tags": [],
            "needs_background": "light"
          }
        }
      ]
    },
    {
      "cell_type": "markdown",
      "metadata": {
        "id": "bYMIBV9i1WMq"
      },
      "source": [
        "## Using LSTM"
      ]
    },
    {
      "cell_type": "code",
      "metadata": {
        "id": "jBgzQLUC1PWy"
      },
      "source": [
        "lstm_model = tf.keras.models.Sequential([tf.keras.layers.Embedding(vocab_size,embedding_dim,input_length=max_length),\n",
        "                                         tf.keras.layers.Bidirectional(tf.keras.layers.LSTM(64)),\n",
        "                                         tf.keras.layers.Dense(24,activation='relu'),\n",
        "                                         tf.keras.layers.Dense(1,activation='sigmoid')])"
      ],
      "execution_count": 13,
      "outputs": []
    },
    {
      "cell_type": "code",
      "metadata": {
        "colab": {
          "base_uri": "https://localhost:8080/"
        },
        "id": "8tT8WG5T1Y7T",
        "outputId": "0ed5fe55-fe3d-405f-f5a5-e6a10e55f3fd"
      },
      "source": [
        "lstm_model.compile(loss='binary_crossentropy',optimizer='adam',metrics=['accuracy'])\n",
        "lstm_model.summary()"
      ],
      "execution_count": 18,
      "outputs": [
        {
          "output_type": "stream",
          "text": [
            "Model: \"sequential_2\"\n",
            "_________________________________________________________________\n",
            "Layer (type)                 Output Shape              Param #   \n",
            "=================================================================\n",
            "embedding_2 (Embedding)      (None, 100, 16)           160000    \n",
            "_________________________________________________________________\n",
            "bidirectional (Bidirectional (None, 128)               41472     \n",
            "_________________________________________________________________\n",
            "dense_4 (Dense)              (None, 24)                3096      \n",
            "_________________________________________________________________\n",
            "dense_5 (Dense)              (None, 1)                 25        \n",
            "=================================================================\n",
            "Total params: 204,593\n",
            "Trainable params: 204,593\n",
            "Non-trainable params: 0\n",
            "_________________________________________________________________\n"
          ],
          "name": "stdout"
        }
      ]
    },
    {
      "cell_type": "code",
      "metadata": {
        "colab": {
          "base_uri": "https://localhost:8080/"
        },
        "id": "5tE8blwL1eTy",
        "outputId": "746f1226-d446-4a89-e65e-252143e8d02b"
      },
      "source": [
        "num_epochs = 30\n",
        "history = lstm_model.fit(training_padded, training_labels,epochs=50,callbacks=[myCallback()], validation_data=(testing_padded, testing_labels))"
      ],
      "execution_count": 22,
      "outputs": [
        {
          "output_type": "stream",
          "text": [
            "Epoch 1/50\n",
            "625/625 [==============================] - 48s 77ms/step - loss: 0.2170 - accuracy: 0.9135 - val_loss: 0.3545 - val_accuracy: 0.8475\n",
            "Epoch 2/50\n",
            "625/625 [==============================] - 47s 75ms/step - loss: 0.1535 - accuracy: 0.9439 - val_loss: 0.3986 - val_accuracy: 0.8432\n",
            "Epoch 3/50\n",
            "625/625 [==============================] - 47s 75ms/step - loss: 0.1123 - accuracy: 0.9609 - val_loss: 0.4529 - val_accuracy: 0.8377\n",
            "Epoch 4/50\n",
            "625/625 [==============================] - 47s 75ms/step - loss: 0.0773 - accuracy: 0.9736 - val_loss: 0.5129 - val_accuracy: 0.8395\n",
            "Epoch 5/50\n",
            "625/625 [==============================] - 47s 75ms/step - loss: 0.0479 - accuracy: 0.9845 - val_loss: 0.6317 - val_accuracy: 0.8353\n",
            "Epoch 6/50\n",
            "625/625 [==============================] - 48s 76ms/step - loss: 0.0326 - accuracy: 0.9898 - val_loss: 0.8375 - val_accuracy: 0.8265\n",
            "Epoch 7/50\n",
            "625/625 [==============================] - 48s 77ms/step - loss: 0.0220 - accuracy: 0.9925 - val_loss: 0.9107 - val_accuracy: 0.8296\n",
            "\n",
            "Achieved 99% accuracy so training cancelled\n"
          ],
          "name": "stdout"
        }
      ]
    },
    {
      "cell_type": "code",
      "metadata": {
        "colab": {
          "base_uri": "https://localhost:8080/",
          "height": 541
        },
        "id": "HqX34pUB1gkj",
        "outputId": "d490b5b3-aebc-4640-8041-ec4a46749720"
      },
      "source": [
        "plot_graphs(history, \"accuracy\")\n",
        "plot_graphs(history, \"loss\")"
      ],
      "execution_count": 16,
      "outputs": [
        {
          "output_type": "display_data",
          "data": {
            "image/png": "[encoded data removed]",
            "text/plain": [
              "<Figure size 432x288 with 1 Axes>"
            ]
          },
          "metadata": {
            "tags": [],
            "needs_background": "light"
          }
        },
        {
          "output_type": "display_data",
          "data": {
            "image/png": "[encoded data removed]",
            "text/plain": [
              "<Figure size 432x288 with 1 Axes>"
            ]
          },
          "metadata": {
            "tags": [],
            "needs_background": "light"
          }
        }
      ]
    },
    {
      "cell_type": "code",
      "metadata": {
        "id": "L6Tl26BN1kNL"
      },
      "source": [
        ""
      ],
      "execution_count": null,
      "outputs": []
    }
  ]
}