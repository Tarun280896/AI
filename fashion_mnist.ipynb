{
  "nbformat": 4,
  "nbformat_minor": 0,
  "metadata": {
    "colab": {
      "name": "fashion_mnist.ipynb",
      "provenance": [],
      "authorship_tag": "ABX9TyMMO5AGv0hzzKYP64O0P0YI",
      "include_colab_link": true
    },
    "kernelspec": {
      "name": "python3",
      "display_name": "Python 3"
    },
    "language_info": {
      "name": "python"
    }
  },
  "cells": [
    {
      "cell_type": "markdown",
      "metadata": {
        "id": "view-in-github",
        "colab_type": "text"
      },
      "source": [
        "<a href=\"https://colab.research.google.com/github/Tarun280896/AI/blob/master/fashion_mnist.ipynb\" target=\"_parent\"><img src=\"https://colab.research.google.com/assets/colab-badge.svg\" alt=\"Open In Colab\"/></a>"
      ]
    },
    {
      "cell_type": "code",
      "metadata": {
        "id": "KCIiicIygPgF"
      },
      "source": [
        "from matplotlib import pyplot as plt\n",
        "import tensorflow as tf\n",
        "from tensorflow import keras\n",
        "from matplotlib import pyplot as plt\n",
        "from keras.models import Sequential\n",
        "from keras.layers import Flatten, Dense"
      ],
      "execution_count": 9,
      "outputs": []
    },
    {
      "cell_type": "code",
      "metadata": {
        "id": "ck2kJwDrhq2B"
      },
      "source": [
        "f_mnist = keras.datasets.fashion_mnist"
      ],
      "execution_count": 2,
      "outputs": []
    },
    {
      "cell_type": "code",
      "metadata": {
        "id": "9Iz5nCNJiAsu"
      },
      "source": [
        "(train_X,train_y),(test_x,test_y) = f_mnist.load_data()"
      ],
      "execution_count": 16,
      "outputs": []
    },
    {
      "cell_type": "code",
      "metadata": {
        "colab": {
          "base_uri": "https://localhost:8080/"
        },
        "id": "FdYo31I9iVR2",
        "outputId": "c1ef1f59-d6ac-49bf-b594-7d38792a4a0c"
      },
      "source": [
        "#the share of the image is 28x28\n",
        "train_X.shape"
      ],
      "execution_count": 6,
      "outputs": [
        {
          "output_type": "execute_result",
          "data": {
            "text/plain": [
              "(60000, 28, 28)"
            ]
          },
          "metadata": {
            "tags": []
          },
          "execution_count": 6
        }
      ]
    },
    {
      "cell_type": "code",
      "metadata": {
        "id": "S_UmfLNRiqbp",
        "colab": {
          "base_uri": "https://localhost:8080/"
        },
        "outputId": "883a0d02-fc33-4047-bdf4-12e5fba13b14"
      },
      "source": [
        "#there are 10 different classes of fashion\n",
        "set(text_y)"
      ],
      "execution_count": 7,
      "outputs": [
        {
          "output_type": "execute_result",
          "data": {
            "text/plain": [
              "{0, 1, 2, 3, 4, 5, 6, 7, 8, 9}"
            ]
          },
          "metadata": {
            "tags": []
          },
          "execution_count": 7
        }
      ]
    },
    {
      "cell_type": "code",
      "metadata": {
        "colab": {
          "base_uri": "https://localhost:8080/",
          "height": 282
        },
        "id": "XevmmUz9784Q",
        "outputId": "bbf802a5-0ce3-48b4-f034-c3011c10071f"
      },
      "source": [
        "plt.imshow(train_X[0])#its an ancle boot"
      ],
      "execution_count": 10,
      "outputs": [
        {
          "output_type": "execute_result",
          "data": {
            "text/plain": [
              "<matplotlib.image.AxesImage at 0x7f76c34d4650>"
            ]
          },
          "metadata": {
            "tags": []
          },
          "execution_count": 10
        },
        {
          "output_type": "display_data",
          "data": {
            "image/png": "[encoded data removed]",
            "text/plain": [
              "<Figure size 432x288 with 1 Axes>"
            ]
          },
          "metadata": {
            "tags": [],
            "needs_background": "light"
          }
        }
      ]
    },
    {
      "cell_type": "code",
      "metadata": {
        "id": "N8wy0e_rAP_U"
      },
      "source": [
        "train_X = train_X/255.0\n",
        "test_x = test_x/255.0 "
      ],
      "execution_count": 33,
      "outputs": []
    },
    {
      "cell_type": "markdown",
      "metadata": {
        "id": "QJSpEsCX9ekq"
      },
      "source": [
        "**Simple model:**"
      ]
    },
    {
      "cell_type": "code",
      "metadata": {
        "id": "ryOl9r5F5MtZ"
      },
      "source": [
        "def get_model():\n",
        "  model = Sequential()\n",
        "  #flattens the 28x28 array into linear array\n",
        "  model.add(Flatten(input_shape = (28, 28)))\n",
        "  #no of hidden layers = 1 with 128 neurons\n",
        "  model.add(Dense(units = 128, activation= 'relu'))\n",
        "  model.add(Dense(units = 64, activation= 'relu'))\n",
        "  model.add(Dense(units = 32, activation= 'relu'))\n",
        "  #total no of classes is 10\n",
        "  model.add(Dense(units=10, activation='softmax'))\n",
        "  model.compile(optimizer = 'adam', loss = 'sparse_categorical_crossentropy', metrics=['accuracy'])\n",
        "  return model "
      ],
      "execution_count": 38,
      "outputs": []
    },
    {
      "cell_type": "code",
      "metadata": {
        "colab": {
          "base_uri": "https://localhost:8080/"
        },
        "id": "qRAqeftB8M7K",
        "outputId": "b54a82aa-46ba-44a0-90dc-90d4b513d520"
      },
      "source": [
        "model = get_model()\n",
        "model.fit(train_X,train_y,epochs=10, validation_split=.2)"
      ],
      "execution_count": 39,
      "outputs": [
        {
          "output_type": "stream",
          "text": [
            "Epoch 1/10\n",
            "1500/1500 [==============================] - 4s 2ms/step - loss: 0.6783 - accuracy: 0.7640 - val_loss: 0.4023 - val_accuracy: 0.8510\n",
            "Epoch 2/10\n",
            "1500/1500 [==============================] - 3s 2ms/step - loss: 0.3892 - accuracy: 0.8590 - val_loss: 0.3811 - val_accuracy: 0.8640\n",
            "Epoch 3/10\n",
            "1500/1500 [==============================] - 3s 2ms/step - loss: 0.3454 - accuracy: 0.8732 - val_loss: 0.3731 - val_accuracy: 0.8594\n",
            "Epoch 4/10\n",
            "1500/1500 [==============================] - 3s 2ms/step - loss: 0.3206 - accuracy: 0.8809 - val_loss: 0.3677 - val_accuracy: 0.8648\n",
            "Epoch 5/10\n",
            "1500/1500 [==============================] - 3s 2ms/step - loss: 0.3044 - accuracy: 0.8882 - val_loss: 0.3441 - val_accuracy: 0.8745\n",
            "Epoch 6/10\n",
            "1500/1500 [==============================] - 3s 2ms/step - loss: 0.2939 - accuracy: 0.8909 - val_loss: 0.3449 - val_accuracy: 0.8798\n",
            "Epoch 7/10\n",
            "1500/1500 [==============================] - 3s 2ms/step - loss: 0.2773 - accuracy: 0.8962 - val_loss: 0.3360 - val_accuracy: 0.8795\n",
            "Epoch 8/10\n",
            "1500/1500 [==============================] - 3s 2ms/step - loss: 0.2667 - accuracy: 0.9000 - val_loss: 0.3239 - val_accuracy: 0.8810\n",
            "Epoch 9/10\n",
            "1500/1500 [==============================] - 3s 2ms/step - loss: 0.2578 - accuracy: 0.9014 - val_loss: 0.3170 - val_accuracy: 0.8889\n",
            "Epoch 10/10\n",
            "1500/1500 [==============================] - 3s 2ms/step - loss: 0.2521 - accuracy: 0.9052 - val_loss: 0.3118 - val_accuracy: 0.8895\n"
          ],
          "name": "stdout"
        },
        {
          "output_type": "execute_result",
          "data": {
            "text/plain": [
              "<tensorflow.python.keras.callbacks.History at 0x7f76b17322d0>"
            ]
          },
          "metadata": {
            "tags": []
          },
          "execution_count": 39
        }
      ]
    },
    {
      "cell_type": "code",
      "metadata": {
        "colab": {
          "base_uri": "https://localhost:8080/"
        },
        "id": "6HE6CPKZ77m2",
        "outputId": "1eac0fbd-f290-4a21-f520-e74e9ee3260d"
      },
      "source": [
        "model.evaluate(test_x,test_y)"
      ],
      "execution_count": 40,
      "outputs": [
        {
          "output_type": "stream",
          "text": [
            "313/313 [==============================] - 1s 1ms/step - loss: 0.3439 - accuracy: 0.8804\n"
          ],
          "name": "stdout"
        },
        {
          "output_type": "execute_result",
          "data": {
            "text/plain": [
              "[0.34389981627464294, 0.8804000020027161]"
            ]
          },
          "metadata": {
            "tags": []
          },
          "execution_count": 40
        }
      ]
    },
    {
      "cell_type": "markdown",
      "metadata": {
        "id": "vpdIyESeF2Fi"
      },
      "source": [
        "----------- Using call backs -----------"
      ]
    },
    {
      "cell_type": "code",
      "metadata": {
        "id": "ZShs34GS-B0h"
      },
      "source": [
        "class CustomCallBack(keras.callbacks.Callback):\n",
        "  def on_epoch_end(self,epoch, logs = {}):\n",
        "    if logs.get('loss') < 0.2:\n",
        "      print(\"Reached 80% accuracy on validation set\")\n",
        "      self.model.stop_training = True"
      ],
      "execution_count": 44,
      "outputs": []
    },
    {
      "cell_type": "code",
      "metadata": {
        "colab": {
          "base_uri": "https://localhost:8080/"
        },
        "id": "pmatpLh-HYbe",
        "outputId": "e26b9be8-7bac-4238-8634-d17fa36f3b4d"
      },
      "source": [
        "callbacks = CustomCallBack()\n",
        "model = get_model()\n",
        "model.fit(train_X, train_y, epochs= 50, validation_split = .2, callbacks= [callbacks])"
      ],
      "execution_count": 45,
      "outputs": [
        {
          "output_type": "stream",
          "text": [
            "Epoch 1/50\n",
            "1500/1500 [==============================] - 4s 2ms/step - loss: 0.7641 - accuracy: 0.7425 - val_loss: 0.4345 - val_accuracy: 0.8389\n",
            "Epoch 2/50\n",
            "1500/1500 [==============================] - 3s 2ms/step - loss: 0.4010 - accuracy: 0.8514 - val_loss: 0.3799 - val_accuracy: 0.8633\n",
            "Epoch 3/50\n",
            "1500/1500 [==============================] - 3s 2ms/step - loss: 0.3601 - accuracy: 0.8669 - val_loss: 0.3477 - val_accuracy: 0.8738\n",
            "Epoch 4/50\n",
            "1500/1500 [==============================] - 3s 2ms/step - loss: 0.3244 - accuracy: 0.8784 - val_loss: 0.3446 - val_accuracy: 0.8742\n",
            "Epoch 5/50\n",
            "1500/1500 [==============================] - 3s 2ms/step - loss: 0.3053 - accuracy: 0.8864 - val_loss: 0.3466 - val_accuracy: 0.8761\n",
            "Epoch 6/50\n",
            "1500/1500 [==============================] - 3s 2ms/step - loss: 0.2913 - accuracy: 0.8906 - val_loss: 0.3498 - val_accuracy: 0.8758\n",
            "Epoch 7/50\n",
            "1500/1500 [==============================] - 3s 2ms/step - loss: 0.2699 - accuracy: 0.8962 - val_loss: 0.3165 - val_accuracy: 0.8860\n",
            "Epoch 8/50\n",
            "1500/1500 [==============================] - 3s 2ms/step - loss: 0.2628 - accuracy: 0.9012 - val_loss: 0.3286 - val_accuracy: 0.8818\n",
            "Epoch 9/50\n",
            "1500/1500 [==============================] - 3s 2ms/step - loss: 0.2564 - accuracy: 0.9028 - val_loss: 0.3279 - val_accuracy: 0.8844\n",
            "Epoch 10/50\n",
            "1500/1500 [==============================] - 3s 2ms/step - loss: 0.2431 - accuracy: 0.9081 - val_loss: 0.3228 - val_accuracy: 0.8817\n",
            "Epoch 11/50\n",
            "1500/1500 [==============================] - 3s 2ms/step - loss: 0.2328 - accuracy: 0.9114 - val_loss: 0.3216 - val_accuracy: 0.8881\n",
            "Epoch 12/50\n",
            "1500/1500 [==============================] - 3s 2ms/step - loss: 0.2302 - accuracy: 0.9123 - val_loss: 0.3376 - val_accuracy: 0.8882\n",
            "Epoch 13/50\n",
            "1500/1500 [==============================] - 3s 2ms/step - loss: 0.2182 - accuracy: 0.9176 - val_loss: 0.3209 - val_accuracy: 0.8873\n",
            "Epoch 14/50\n",
            "1500/1500 [==============================] - 3s 2ms/step - loss: 0.2206 - accuracy: 0.9147 - val_loss: 0.3290 - val_accuracy: 0.8897\n",
            "Epoch 15/50\n",
            "1500/1500 [==============================] - 3s 2ms/step - loss: 0.2082 - accuracy: 0.9219 - val_loss: 0.3247 - val_accuracy: 0.8930\n",
            "Epoch 16/50\n",
            "1500/1500 [==============================] - 3s 2ms/step - loss: 0.2000 - accuracy: 0.9243 - val_loss: 0.3704 - val_accuracy: 0.8782\n",
            "Epoch 17/50\n",
            "1500/1500 [==============================] - 3s 2ms/step - loss: 0.1938 - accuracy: 0.9267 - val_loss: 0.3646 - val_accuracy: 0.8812\n",
            "Reached 80% accuracy on validation set\n"
          ],
          "name": "stdout"
        },
        {
          "output_type": "execute_result",
          "data": {
            "text/plain": [
              "<tensorflow.python.keras.callbacks.History at 0x7f76af384610>"
            ]
          },
          "metadata": {
            "tags": []
          },
          "execution_count": 45
        }
      ]
    },
    {
      "cell_type": "code",
      "metadata": {
        "colab": {
          "base_uri": "https://localhost:8080/"
        },
        "id": "Q43kNBOjH8x6",
        "outputId": "f48f63ab-2340-4d03-b0f4-296705013397"
      },
      "source": [
        "model.evaluate(test_x,test_y)"
      ],
      "execution_count": 46,
      "outputs": [
        {
          "output_type": "stream",
          "text": [
            "313/313 [==============================] - 1s 2ms/step - loss: 0.3894 - accuracy: 0.8766\n"
          ],
          "name": "stdout"
        },
        {
          "output_type": "execute_result",
          "data": {
            "text/plain": [
              "[0.3893781900405884, 0.8766000270843506]"
            ]
          },
          "metadata": {
            "tags": []
          },
          "execution_count": 46
        }
      ]
    },
    {
      "cell_type": "code",
      "metadata": {
        "id": "ouopjHGaJJKT"
      },
      "source": [
        ""
      ],
      "execution_count": null,
      "outputs": []
    }
  ]
}